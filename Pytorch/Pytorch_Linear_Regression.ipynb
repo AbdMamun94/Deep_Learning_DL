{
 "cells": [
  {
   "cell_type": "code",
   "execution_count": 2,
   "id": "09f472e5",
   "metadata": {},
   "outputs": [],
   "source": [
    "import torch\n",
    "import torch.nn as nn\n",
    "import numpy as np\n",
    "from sklearn import datasets\n",
    "import matplotlib.pyplot as plt"
   ]
  },
  {
   "cell_type": "markdown",
   "id": "800953ab",
   "metadata": {},
   "source": [
    "# 0) Prepare data"
   ]
  },
  {
   "cell_type": "code",
   "execution_count": 3,
   "id": "f6f5f8a5",
   "metadata": {},
   "outputs": [],
   "source": [
    "X_numpy, y_numpy = datasets.make_regression(n_samples=100, n_features=1, noise=20, random_state=4)"
   ]
  },
  {
   "cell_type": "markdown",
   "id": "7976270f",
   "metadata": {},
   "source": [
    "# cast to float Tensor"
   ]
  },
  {
   "cell_type": "code",
   "execution_count": 4,
   "id": "dc70922f",
   "metadata": {},
   "outputs": [],
   "source": [
    "X = torch.from_numpy(X_numpy.astype(np.float32))\n",
    "y = torch.from_numpy(y_numpy.astype(np.float32))\n",
    "y = y.view(y.shape[0], 1)"
   ]
  },
  {
   "cell_type": "code",
   "execution_count": 5,
   "id": "9db5f151",
   "metadata": {},
   "outputs": [],
   "source": [
    "n_samples, n_features = X.shape"
   ]
  },
  {
   "cell_type": "markdown",
   "id": "b081ca4f",
   "metadata": {},
   "source": [
    "# # 1) Model\n",
    "# Linear model f = wx + b"
   ]
  },
  {
   "cell_type": "code",
   "execution_count": 6,
   "id": "841507e7",
   "metadata": {},
   "outputs": [],
   "source": [
    "input_size = n_features\n",
    "output_size = 1\n",
    "model = nn.Linear(input_size, output_size)"
   ]
  },
  {
   "cell_type": "markdown",
   "id": "d2274912",
   "metadata": {},
   "source": [
    "# 2) Loss and optimizer\n"
   ]
  },
  {
   "cell_type": "code",
   "execution_count": 8,
   "id": "0f33253a",
   "metadata": {},
   "outputs": [],
   "source": [
    "learning_rate = 0.01\n",
    "criterion = nn.MSELoss()\n",
    "optimizer = torch.optim.SGD(model.parameters(), lr=learning_rate)  "
   ]
  },
  {
   "cell_type": "markdown",
   "id": "930b8b28",
   "metadata": {},
   "source": [
    "# 3) Training loop"
   ]
  },
  {
   "cell_type": "code",
   "execution_count": 10,
   "id": "8a615a5f",
   "metadata": {},
   "outputs": [
    {
     "name": "stdout",
     "output_type": "stream",
     "text": [
      "epoch: 10, loss = 4019.6218\n",
      "epoch: 20, loss = 2834.2471\n",
      "epoch: 30, loss = 2025.9781\n",
      "epoch: 40, loss = 1474.7306\n",
      "epoch: 50, loss = 1098.6978\n",
      "epoch: 60, loss = 842.1364\n",
      "epoch: 70, loss = 667.0540\n",
      "epoch: 80, loss = 547.5517\n",
      "epoch: 90, loss = 465.9706\n",
      "epoch: 100, loss = 410.2673\n"
     ]
    }
   ],
   "source": [
    "num_epochs = 100\n",
    "for epoch in range(num_epochs):\n",
    "    # Forward pass and loss\n",
    "    y_predicted = model(X)\n",
    "    loss = criterion(y_predicted, y)\n",
    "    \n",
    "    # Backward pass and update\n",
    "    loss.backward()\n",
    "    optimizer.step()\n",
    "\n",
    "    # zero grad before new step\n",
    "    optimizer.zero_grad()\n",
    "\n",
    "    if (epoch+1) % 10 == 0:\n",
    "        print(f'epoch: {epoch+1}, loss = {loss.item():.4f}')"
   ]
  },
  {
   "cell_type": "markdown",
   "id": "1ac3190a",
   "metadata": {},
   "source": [
    "# # Plot\n"
   ]
  },
  {
   "cell_type": "code",
   "execution_count": 11,
   "id": "25e3c0b3",
   "metadata": {},
   "outputs": [
    {
     "data": {
      "image/png": "[encoded data removed]",
      "text/plain": [
       "<Figure size 432x288 with 1 Axes>"
      ]
     },
     "metadata": {
      "needs_background": "light"
     },
     "output_type": "display_data"
    }
   ],
   "source": [
    "predicted = model(X).detach().numpy()\n",
    "\n",
    "plt.plot(X_numpy, y_numpy, 'ro')\n",
    "plt.plot(X_numpy, predicted, 'b')\n",
    "plt.show()"
   ]
  },
  {
   "cell_type": "code",
   "execution_count": null,
   "id": "b6e9e4e3",
   "metadata": {},
   "outputs": [],
   "source": []
  }
 ],
 "metadata": {
  "kernelspec": {
   "display_name": "Python 3 (ipykernel)",
   "language": "python",
   "name": "python3"
  },
  "language_info": {
   "codemirror_mode": {
    "name": "ipython",
    "version": 3
   },
   "file_extension": ".py",
   "mimetype": "text/x-python",
   "name": "python",
   "nbconvert_exporter": "python",
   "pygments_lexer": "ipython3",
   "version": "3.8.12"
  }
 },
 "nbformat": 4,
 "nbformat_minor": 5
}
